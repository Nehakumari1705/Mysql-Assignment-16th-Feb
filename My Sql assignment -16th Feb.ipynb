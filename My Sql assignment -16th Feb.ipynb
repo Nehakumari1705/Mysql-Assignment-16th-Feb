{
 "cells": [
  {
   "cell_type": "markdown",
   "id": "29208be2",
   "metadata": {},
   "source": [
    "#### Q1. What is a database? Differentiate between SQL and NoSQL databases.\n",
    "\n",
    "#### Ans- A database is a collection of data arranged in a particular order. Databases are essential for storing and managing large volumes of data in various applications, ranging from simple web applications to complex enterprise systems.\n",
    "\n",
    "\n",
    "#### SQL Databases:\n",
    "\n",
    "1. Structure: SQL databases are relational databases that store data in tables with rows and columns. Each table represents an entity, and relationships between entities are established through foreign keys.\n",
    "\n",
    "2. Schema: SQL databases have a fixed schema, meaning that the table structure and data types for each column must be predefined before data can be inserted.\n",
    "\n",
    "3. Query Language: SQL databases use SQL as their query language for data manipulation and retrieval. SQL provides a standardized way to interact with the database.\n",
    "\n",
    "4. ACID Transactions: SQL databases typically support ACID (Atomicity, Consistency, Isolation, Durability) transactions, ensuring that database operations are reliable and maintain data integrity.\n",
    "\n",
    "Examples: MySQL, PostgreSQL, Oracle, Microsoft SQL Server.\n",
    "\n",
    "#### NoSQL Databases:\n",
    "\n",
    "1. Structure: NoSQL databases are non-relational databases that store data in various formats, such as key-value pairs, documents, column families, or graphs. The structure is flexible and can vary within a database.\n",
    "\n",
    "2. Schema: NoSQL databases are schema-less or have a flexible schema, meaning that each record can have a different structure within the same collection.\n",
    "\n",
    "3. Query Language: NoSQL databases use different query languages or APIs depending on their type. Some NoSQL databases have their query languages, while others may use APIs based on the data format.\n",
    "4. ACID Transactions: NoSQL databases may not provide full ACID transactions in all cases, depending on the database type. Some NoSQL databases focus on providing eventual consistency rather than immediate consistency.\n",
    "\n",
    "Examples: MongoDB (Document-based), Apache Cassandra (Column-family), Redis (Key-value), Neo4j (Graph)."
   ]
  },
  {
   "cell_type": "markdown",
   "id": "f1d8538c",
   "metadata": {},
   "source": [
    "#### Q2. What is DDL? Explain why CREATE, DROP, ALTER, and TRUNCATE are used with an example.\n",
    "\n",
    "#### Ans- DDL stands for Data Definition Language. It is a subset of SQL and a part of DBMS (Database Management System). DDL commands are used to create or modify the tables in SQL. DDL commands include CREATE, ALTER, TRUNCATE and DROP.\n",
    "\n",
    "#### CREATE:\n",
    "\n",
    "The CREATE statement is used to create new database objects, such as tables, views, or indexes."
   ]
  },
  {
   "cell_type": "markdown",
   "id": "9184f18b",
   "metadata": {},
   "source": [
    "CREATE TABLE employees (\n",
    "    id INT PRIMARY KEY,\n",
    "    name VARCHAR(50),\n",
    "    age INT,\n",
    "    department VARCHAR(50)\n",
    ");\n"
   ]
  },
  {
   "cell_type": "markdown",
   "id": "d8282b92",
   "metadata": {},
   "source": [
    "#### DROP:\n",
    "\n",
    "The DROP statement is used to remove database objects, such as tables, views, or indexes.\n",
    "\n",
    "DROP TABLE employees;\n",
    "\n",
    "\n",
    "#### ALTER:\n",
    "\n",
    "The ALTER statement is used to modify the structure of existing database objects, such as adding, modifying, or dropping columns in a table.\n",
    "\n",
    "ALTER TABLE employees\n",
    "ADD email VARCHAR(100);\n",
    "\n",
    "\n",
    "#### TRUNCATE:\n",
    "\n",
    "The TRUNCATE statement is used to remove all data from a table, but it keeps the table structure intact.\n",
    "\n",
    "TRUNCATE TABLE employees;\n"
   ]
  },
  {
   "cell_type": "markdown",
   "id": "520237e3",
   "metadata": {},
   "source": [
    "#### Q3. What is DML? Explain INSERT, UPDATE, and DELETE with an example.\n"
   ]
  },
  {
   "cell_type": "markdown",
   "id": "2ce7ad0c",
   "metadata": {},
   "source": [
    "#### Ans-  DML stands for Data Manipulation Language. It is a subset of SQL (Structured Query Language) used to interact with and manipulate data stored in a database. DML statements are responsible for inserting, updating, and deleting data within the database tables.\n",
    "\n",
    "Let's explain each DML statement with an example:\n",
    "\n",
    "#### 1. INSERT:\n",
    "\n",
    "The INSERT statement is used to add new rows of data into a table.\n",
    "\n",
    "Example:\n",
    "\n",
    "-- Assuming the 'employees' table already exists with columns 'id', 'name', 'age', and 'department'\n",
    "\n",
    "INSERT INTO employees (id, name, age, department)\n",
    "\n",
    "VALUES (1, 'John Doe', 30, 'Engineering');\n",
    "\n",
    "\n",
    "\n",
    "#### 2. UPDATE:\n",
    "\n",
    "The UPDATE statement is used to modify existing data in a table.\n",
    "\n",
    "Example:\n",
    "\n",
    "\n",
    "-- Assuming the 'employees' table already exists with columns 'id', 'name', 'age', and 'department'\n",
    "\n",
    "UPDATE employees\n",
    "\n",
    "SET age = 31, department = 'Development'\n",
    "\n",
    "WHERE id = 1;\n",
    "\n",
    "\n",
    "#### 3. DELETE:\n",
    "\n",
    "The DELETE statement is used to remove rows of data from a table.\n",
    "\n",
    "Example:\n",
    "\n",
    "-- Assuming the 'employees' table already exists with columns 'id', 'name', 'age', and 'department'\n",
    "\n",
    "DELETE FROM employees\n",
    "\n",
    "WHERE id = 1;\n",
    "\n"
   ]
  },
  {
   "cell_type": "markdown",
   "id": "247c8dc8",
   "metadata": {},
   "source": [
    "#### Q4. What is DQL? Explain SELECT with an example.\n",
    "\n",
    "#### Ans- \n",
    "DQL stands for Data Query Language. It is a subset of SQL (Structured Query Language) used to retrieve data from a database. DQL statements are primarily focused on querying and fetching data from one or more tables in a database.\n",
    "\n",
    "The most common DQL statement is the SELECT statement, which allows you to specify the columns and conditions to retrieve data from a table or multiple tables.\n",
    "SELECT is used to select (retrieve) data from a database table.\n",
    "\n",
    "for example:\n",
    "\n",
    "SELECT * FROM employee;"
   ]
  },
  {
   "cell_type": "markdown",
   "id": "7c2ff21a",
   "metadata": {},
   "source": [
    "#### Q5. Explain Primary Key and Foreign Key.\n",
    "\n",
    "#### Ans - Primary Key and Foreign Key are both fundamental concepts in database design, used to establish relationships between tables and maintain data integrity.\n",
    "\n",
    "#### Primary Key:\n",
    "\n",
    "A Primary Key is a column or a set of columns in a table that uniquely identifies each row in the table. It ensures that each row has a unique identity, and no two rows can have the same values for the Primary Key columns. Every table in a relational database must have a Primary Key, and it should be chosen such that it uniquely identifies each record.\n",
    "\n",
    "Properties of a Primary Key:\n",
    "\n",
    "Unique: Each value in the Primary Key column(s) must be unique.\n",
    "\n",
    "Not Null: The Primary Key column(s) cannot contain NULL values.\n",
    "\n",
    "Unchanging: The values of the Primary Key should not change for a given row throughout its lifetime.\n",
    "\n",
    "Example:\n",
    "\n",
    "Consider a table called employees with columns employee_id, name, age, and department. Here, employee_id could be chosen as the Primary Key for the employees table since it uniquely identifies each employee.\n",
    "\n",
    "#### Foreign Key:\n",
    "\n",
    "A Foreign Key is a column or a set of columns in a table that establishes a link between the data in two tables. It creates a relationship between two tables, where the Foreign Key in one table refers to the Primary Key in another table. The \n",
    "\n",
    "Foreign Key helps maintain referential integrity, ensuring that data in the related tables remains consistent.\n",
    "\n",
    "Properties of a Foreign Key:\n",
    "\n",
    "References Primary Key: The Foreign Key in one table references the Primary Key in another table.\n",
    "\n",
    "Maintains Referential Integrity: It ensures that values in the Foreign Key column(s) exist in the corresponding Primary Key column(s) of the referenced table or are NULL.\n",
    "\n",
    "Example:\n",
    "\n",
    "Consider two tables, employees and departments. The employees table has a Foreign Key column department_id, which refers to the Primary Key column department_id in the departments table. This creates a relationship between the two tables, where each employee in the employees table is associated with a department in the departments table.\n"
   ]
  },
  {
   "cell_type": "markdown",
   "id": "021e52e3",
   "metadata": {},
   "source": [
    "#### Q6. Write a python code to connect MySQL to python. Explain the cursor() and execute() method."
   ]
  },
  {
   "cell_type": "markdown",
   "id": "a0a81a22",
   "metadata": {},
   "source": [
    "#### Ans- Here is an example code to connect MySQL to Python:"
   ]
  },
  {
   "cell_type": "code",
   "execution_count": null,
   "id": "ec83dace",
   "metadata": {},
   "outputs": [],
   "source": [
    "import mysql.connector\n",
    "\n",
    "mydb = mysql.connector.connect(\n",
    "  host=\"localhost\",\n",
    "  user=\"yourusername\",\n",
    "  password=\"yourpassword\",\n",
    "  database=\"mydatabase\"\n",
    ")\n",
    "\n",
    "mycursor = mydb.cursor()\n",
    "\n",
    "mycursor.execute(\"SELECT * FROM customers\")\n",
    "\n",
    "myresult = mycursor.fetchall()\n",
    "\n",
    "for x in myresult:\n",
    "    print(x)\n"
   ]
  },
  {
   "cell_type": "markdown",
   "id": "9b6e75ce",
   "metadata": {},
   "source": [
    "The cursor() method creates a cursor object that can execute queries on the database. The execute() method executes the specified query. The fetchall() method fetches all rows of a query result set and returns a list."
   ]
  },
  {
   "cell_type": "markdown",
   "id": "fa3fcf26",
   "metadata": {},
   "source": [
    "#### Q7. Give the order of execution of SQL clauses in an SQL query.\n",
    "\n",
    "#### Ans- In an SQL query, the clauses are executed in the following order:\n",
    "\n",
    "1. SELECT: The SELECT clause is the first to be executed. It specifies which columns to include in the result set and is used to retrieve data from the database.\n",
    "\n",
    "2. FROM: The FROM clause comes after the SELECT clause. It identifies the tables from which the data will be retrieved. The SELECT clause operates on the tables specified in the FROM clause.\n",
    "\n",
    "3. WHERE: The WHERE clause is executed after the FROM clause. It filters the rows from the tables based on specified conditions. Only the rows that satisfy the conditions in the WHERE clause are included in the result set.\n",
    "\n",
    "4. GROUP BY: The GROUP BY clause is executed after the WHERE clause. It groups the rows with identical values in the specified columns and performs aggregate functions on each group.\n",
    "\n",
    "5. HAVING: The HAVING clause is executed after the GROUP BY clause. It filters the grouped rows based on aggregate conditions. Only the groups that satisfy the conditions in the HAVING clause are included in the result set.\n",
    "\n",
    "6. ORDER BY: The ORDER BY clause is executed after the HAVING clause. It sorts the result set based on specified columns in ascending or descending order.\n",
    "\n",
    "7. LIMIT/OFFSET (if applicable): The LIMIT and OFFSET clauses, if present, are executed last. They are used to limit the number of rows returned in the result set or to skip a certain number of rows before starting to return rows.\n",
    "\n",
    "It's important to note that not all clauses are mandatory in an SQL query, and the order of execution may vary depending on the specific query and the presence of different clauses. However, this is the general order of execution for a complete SQL query with all the common clauses."
   ]
  },
  {
   "cell_type": "code",
   "execution_count": null,
   "id": "9cdb2309",
   "metadata": {},
   "outputs": [],
   "source": []
  }
 ],
 "metadata": {
  "kernelspec": {
   "display_name": "Python 3 (ipykernel)",
   "language": "python",
   "name": "python3"
  },
  "language_info": {
   "codemirror_mode": {
    "name": "ipython",
    "version": 3
   },
   "file_extension": ".py",
   "mimetype": "text/x-python",
   "name": "python",
   "nbconvert_exporter": "python",
   "pygments_lexer": "ipython3",
   "version": "3.9.13"
  }
 },
 "nbformat": 4,
 "nbformat_minor": 5
}
